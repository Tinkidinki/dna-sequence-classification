{
 "cells": [
  {
   "cell_type": "markdown",
   "metadata": {},
   "source": [
    "# Separating the data into classes, will later get split into train, test, validation"
   ]
  },
  {
   "cell_type": "code",
   "execution_count": 1,
   "metadata": {},
   "outputs": [],
   "source": [
    "ftrain_data = open(\"data/allData_trn.txt\")\n",
    "ftrain_labels = open(\"data/allLabels_trn.txt\")\n",
    "fval_data = open(\"data/allData_val.txt\")\n",
    "fval_labels = open(\"data/allLabels_val.txt\")"
   ]
  },
  {
   "cell_type": "code",
   "execution_count": 2,
   "metadata": {},
   "outputs": [],
   "source": [
    "train_data = ftrain_data.readlines()\n",
    "val_data = fval_data.readlines()\n",
    "train_labels = ftrain_labels.readlines()\n",
    "val_labels = fval_labels.readlines()"
   ]
  },
  {
   "cell_type": "code",
   "execution_count": 3,
   "metadata": {},
   "outputs": [],
   "source": [
    "class_0 = []\n",
    "class_1 = []\n"
   ]
  },
  {
   "cell_type": "code",
   "execution_count": 4,
   "metadata": {},
   "outputs": [],
   "source": [
    "for i in range(len(train_data)):\n",
    "    if train_labels[i] == \"0\\n\":\n",
    "        class_0.append(\">h\\n\")\n",
    "        class_0.append(train_data[i])\n",
    "    else:\n",
    "        class_1.append(\">h\\n\")\n",
    "        class_1.append(train_data[i])"
   ]
  },
  {
   "cell_type": "code",
   "execution_count": 5,
   "metadata": {},
   "outputs": [],
   "source": [
    "for i in range(len(val_data)):\n",
    "    if val_labels[i] == \"0\\n\":\n",
    "        class_0.append(\">h\\n\")\n",
    "        class_0.append(val_data[i])\n",
    "    else:\n",
    "        class_1.append(\">h\\n\")\n",
    "        class_1.append(val_data[i])"
   ]
  },
  {
   "cell_type": "code",
   "execution_count": 6,
   "metadata": {},
   "outputs": [],
   "source": [
    "f_class0 = open(\"data/class0.txt\", \"w\")\n",
    "f_class1 = open(\"data/class1.txt\", \"w\")"
   ]
  },
  {
   "cell_type": "code",
   "execution_count": 7,
   "metadata": {},
   "outputs": [],
   "source": [
    "f_class0.writelines(class_0)"
   ]
  },
  {
   "cell_type": "code",
   "execution_count": 8,
   "metadata": {},
   "outputs": [],
   "source": [
    "f_class1.writelines(class_1)"
   ]
  },
  {
   "cell_type": "markdown",
   "metadata": {},
   "source": [
    "## Now, there are two files containing class_0 data and class_1 data. We give this to pysster to make the split\n"
   ]
  },
  {
   "cell_type": "code",
   "execution_count": 9,
   "metadata": {},
   "outputs": [
    {
     "name": "stderr",
     "output_type": "stream",
     "text": [
      "Using TensorFlow backend.\n",
      "/home/tinkidinki/.local/lib/python3.6/site-packages/tensorflow/python/framework/dtypes.py:516: FutureWarning: Passing (type, 1) or '1type' as a synonym of type is deprecated; in a future version of numpy, it will be understood as (type, (1,)) / '(1,)type'.\n",
      "  _np_qint8 = np.dtype([(\"qint8\", np.int8, 1)])\n",
      "/home/tinkidinki/.local/lib/python3.6/site-packages/tensorflow/python/framework/dtypes.py:517: FutureWarning: Passing (type, 1) or '1type' as a synonym of type is deprecated; in a future version of numpy, it will be understood as (type, (1,)) / '(1,)type'.\n",
      "  _np_quint8 = np.dtype([(\"quint8\", np.uint8, 1)])\n",
      "/home/tinkidinki/.local/lib/python3.6/site-packages/tensorflow/python/framework/dtypes.py:518: FutureWarning: Passing (type, 1) or '1type' as a synonym of type is deprecated; in a future version of numpy, it will be understood as (type, (1,)) / '(1,)type'.\n",
      "  _np_qint16 = np.dtype([(\"qint16\", np.int16, 1)])\n",
      "/home/tinkidinki/.local/lib/python3.6/site-packages/tensorflow/python/framework/dtypes.py:519: FutureWarning: Passing (type, 1) or '1type' as a synonym of type is deprecated; in a future version of numpy, it will be understood as (type, (1,)) / '(1,)type'.\n",
      "  _np_quint16 = np.dtype([(\"quint16\", np.uint16, 1)])\n",
      "/home/tinkidinki/.local/lib/python3.6/site-packages/tensorflow/python/framework/dtypes.py:520: FutureWarning: Passing (type, 1) or '1type' as a synonym of type is deprecated; in a future version of numpy, it will be understood as (type, (1,)) / '(1,)type'.\n",
      "  _np_qint32 = np.dtype([(\"qint32\", np.int32, 1)])\n",
      "/home/tinkidinki/.local/lib/python3.6/site-packages/tensorflow/python/framework/dtypes.py:525: FutureWarning: Passing (type, 1) or '1type' as a synonym of type is deprecated; in a future version of numpy, it will be understood as (type, (1,)) / '(1,)type'.\n",
      "  np_resource = np.dtype([(\"resource\", np.ubyte, 1)])\n",
      "/home/tinkidinki/.local/lib/python3.6/site-packages/tensorboard/compat/tensorflow_stub/dtypes.py:541: FutureWarning: Passing (type, 1) or '1type' as a synonym of type is deprecated; in a future version of numpy, it will be understood as (type, (1,)) / '(1,)type'.\n",
      "  _np_qint8 = np.dtype([(\"qint8\", np.int8, 1)])\n",
      "/home/tinkidinki/.local/lib/python3.6/site-packages/tensorboard/compat/tensorflow_stub/dtypes.py:542: FutureWarning: Passing (type, 1) or '1type' as a synonym of type is deprecated; in a future version of numpy, it will be understood as (type, (1,)) / '(1,)type'.\n",
      "  _np_quint8 = np.dtype([(\"quint8\", np.uint8, 1)])\n",
      "/home/tinkidinki/.local/lib/python3.6/site-packages/tensorboard/compat/tensorflow_stub/dtypes.py:543: FutureWarning: Passing (type, 1) or '1type' as a synonym of type is deprecated; in a future version of numpy, it will be understood as (type, (1,)) / '(1,)type'.\n",
      "  _np_qint16 = np.dtype([(\"qint16\", np.int16, 1)])\n",
      "/home/tinkidinki/.local/lib/python3.6/site-packages/tensorboard/compat/tensorflow_stub/dtypes.py:544: FutureWarning: Passing (type, 1) or '1type' as a synonym of type is deprecated; in a future version of numpy, it will be understood as (type, (1,)) / '(1,)type'.\n",
      "  _np_quint16 = np.dtype([(\"quint16\", np.uint16, 1)])\n",
      "/home/tinkidinki/.local/lib/python3.6/site-packages/tensorboard/compat/tensorflow_stub/dtypes.py:545: FutureWarning: Passing (type, 1) or '1type' as a synonym of type is deprecated; in a future version of numpy, it will be understood as (type, (1,)) / '(1,)type'.\n",
      "  _np_qint32 = np.dtype([(\"qint32\", np.int32, 1)])\n",
      "/home/tinkidinki/.local/lib/python3.6/site-packages/tensorboard/compat/tensorflow_stub/dtypes.py:550: FutureWarning: Passing (type, 1) or '1type' as a synonym of type is deprecated; in a future version of numpy, it will be understood as (type, (1,)) / '(1,)type'.\n",
      "  np_resource = np.dtype([(\"resource\", np.ubyte, 1)])\n"
     ]
    }
   ],
   "source": [
    "from pysster.Data import Data\n",
    "from pysster.Model import Model"
   ]
  },
  {
   "cell_type": "code",
   "execution_count": 10,
   "metadata": {},
   "outputs": [],
   "source": [
    "data = Data([\"data/class0.txt\", \"data/class1.txt\"], (\"ATGC\"))"
   ]
  },
  {
   "cell_type": "code",
   "execution_count": 11,
   "metadata": {},
   "outputs": [
    {
     "name": "stdout",
     "output_type": "stream",
     "text": [
      "WARNING:tensorflow:From /home/tinkidinki/.local/lib/python3.6/site-packages/keras/backend/tensorflow_backend.py:66: The name tf.get_default_graph is deprecated. Please use tf.compat.v1.get_default_graph instead.\n",
      "\n",
      "WARNING:tensorflow:From /home/tinkidinki/.local/lib/python3.6/site-packages/keras/backend/tensorflow_backend.py:541: The name tf.placeholder is deprecated. Please use tf.compat.v1.placeholder instead.\n",
      "\n",
      "WARNING:tensorflow:From /home/tinkidinki/.local/lib/python3.6/site-packages/keras/backend/tensorflow_backend.py:148: The name tf.placeholder_with_default is deprecated. Please use tf.compat.v1.placeholder_with_default instead.\n",
      "\n",
      "WARNING:tensorflow:From /home/tinkidinki/.local/lib/python3.6/site-packages/keras/backend/tensorflow_backend.py:3733: calling dropout (from tensorflow.python.ops.nn_ops) with keep_prob is deprecated and will be removed in a future version.\n",
      "Instructions for updating:\n",
      "Please use `rate` instead of `keep_prob`. Rate should be set to `rate = 1 - keep_prob`.\n",
      "WARNING:tensorflow:From /home/tinkidinki/.local/lib/python3.6/site-packages/keras/backend/tensorflow_backend.py:4432: The name tf.random_uniform is deprecated. Please use tf.random.uniform instead.\n",
      "\n",
      "WARNING:tensorflow:From /home/tinkidinki/.local/lib/python3.6/site-packages/keras/backend/tensorflow_backend.py:4267: The name tf.nn.max_pool is deprecated. Please use tf.nn.max_pool2d instead.\n",
      "\n",
      "WARNING:tensorflow:Large dropout rate: 0.6 (>0.5). In TensorFlow 2.x, dropout() uses dropout rate instead of keep_prob. Please ensure that this is intended.\n",
      "WARNING:tensorflow:From /home/tinkidinki/.local/lib/python3.6/site-packages/keras/optimizers.py:793: The name tf.train.Optimizer is deprecated. Please use tf.compat.v1.train.Optimizer instead.\n",
      "\n",
      "WARNING:tensorflow:From /home/tinkidinki/.local/lib/python3.6/site-packages/keras/backend/tensorflow_backend.py:3576: The name tf.log is deprecated. Please use tf.math.log instead.\n",
      "\n",
      "WARNING:tensorflow:From /home/tinkidinki/.local/lib/python3.6/site-packages/tensorflow/python/ops/math_grad.py:1250: add_dispatch_support.<locals>.wrapper (from tensorflow.python.ops.array_ops) is deprecated and will be removed in a future version.\n",
      "Instructions for updating:\n",
      "Use tf.where in 2.0, which has the same broadcast rule as np.where\n",
      "Epoch 1/20\n",
      "44/44 [==============================] - 9s 204ms/step - loss: 0.8457 - val_loss: 0.7102\n",
      "Epoch 2/20\n",
      "44/44 [==============================] - 8s 193ms/step - loss: 0.8367 - val_loss: 0.6883\n",
      "Epoch 3/20\n",
      "44/44 [==============================] - 9s 200ms/step - loss: 0.6604 - val_loss: 0.2858\n",
      "Epoch 4/20\n",
      "44/44 [==============================] - 9s 199ms/step - loss: 0.2713 - val_loss: 0.1161\n",
      "Epoch 5/20\n",
      "44/44 [==============================] - 9s 204ms/step - loss: 0.1735 - val_loss: 0.0852\n",
      "Epoch 6/20\n",
      "44/44 [==============================] - 9s 209ms/step - loss: 0.1467 - val_loss: 0.0761\n",
      "Epoch 7/20\n",
      "44/44 [==============================] - 9s 205ms/step - loss: 0.1288 - val_loss: 0.0667\n",
      "Epoch 8/20\n",
      "44/44 [==============================] - 9s 202ms/step - loss: 0.1045 - val_loss: 0.0622\n",
      "Epoch 9/20\n",
      "44/44 [==============================] - 11s 254ms/step - loss: 0.1044 - val_loss: 0.0613\n",
      "Epoch 10/20\n",
      "44/44 [==============================] - 11s 260ms/step - loss: 0.0873 - val_loss: 0.0545\n",
      "Epoch 11/20\n",
      "44/44 [==============================] - 9s 208ms/step - loss: 0.0862 - val_loss: 0.0512\n",
      "Epoch 12/20\n",
      "44/44 [==============================] - 11s 244ms/step - loss: 0.0784 - val_loss: 0.0543\n",
      "Epoch 13/20\n",
      "44/44 [==============================] - 10s 226ms/step - loss: 0.0750 - val_loss: 0.0514\n",
      "Epoch 14/20\n",
      "44/44 [==============================] - 10s 230ms/step - loss: 0.0735 - val_loss: 0.0484\n",
      "Epoch 15/20\n",
      "44/44 [==============================] - 11s 257ms/step - loss: 0.0661 - val_loss: 0.0418\n",
      "Epoch 16/20\n",
      "44/44 [==============================] - 11s 246ms/step - loss: 0.0683 - val_loss: 0.0406\n",
      "Epoch 17/20\n",
      "44/44 [==============================] - 10s 228ms/step - loss: 0.0712 - val_loss: 0.0522\n",
      "Epoch 18/20\n",
      "44/44 [==============================] - 10s 226ms/step - loss: 0.0598 - val_loss: 0.0386\n",
      "Epoch 19/20\n",
      "44/44 [==============================] - 9s 205ms/step - loss: 0.0573 - val_loss: 0.0365\n",
      "Epoch 20/20\n",
      "44/44 [==============================] - 11s 252ms/step - loss: 0.0527 - val_loss: 0.0344\n",
      "WARNING:tensorflow:Large dropout rate: 0.6 (>0.5). In TensorFlow 2.x, dropout() uses dropout rate instead of keep_prob. Please ensure that this is intended.\n"
     ]
    }
   ],
   "source": [
    "params = {\"conv_num\": 2, \"kernel_num\": 20, \"epochs\":20}\n",
    "model = Model(params, data)\n",
    "model.train(data)"
   ]
  },
  {
   "cell_type": "code",
   "execution_count": 12,
   "metadata": {},
   "outputs": [],
   "source": [
    "prediction_weights = model.predict(data, \"test\")"
   ]
  },
  {
   "cell_type": "code",
   "execution_count": 13,
   "metadata": {},
   "outputs": [],
   "source": [
    "labels = data.get_labels(\"test\")"
   ]
  },
  {
   "cell_type": "code",
   "execution_count": 14,
   "metadata": {},
   "outputs": [],
   "source": [
    "import numpy as np\n",
    "predictions = []\n",
    "for i in prediction_weights:\n",
    "    if (i[0] > 0.5):\n",
    "        predictions.append([1, 0])\n",
    "    else:\n",
    "        predictions.append([0, 1])\n",
    "        \n",
    "predictions = np.array(predictions)"
   ]
  },
  {
   "cell_type": "code",
   "execution_count": 15,
   "metadata": {},
   "outputs": [],
   "source": [
    "from sklearn.metrics import accuracy_score"
   ]
  },
  {
   "cell_type": "code",
   "execution_count": 16,
   "metadata": {},
   "outputs": [
    {
     "data": {
      "text/plain": [
       "0.9875"
      ]
     },
     "execution_count": 16,
     "metadata": {},
     "output_type": "execute_result"
    }
   ],
   "source": [
    "accuracy_score(labels[:,1], predictions[:, 1])"
   ]
  },
  {
   "cell_type": "markdown",
   "metadata": {},
   "source": [
    "## Writing the test_data into an object and making predictions"
   ]
  },
  {
   "cell_type": "code",
   "execution_count": 17,
   "metadata": {},
   "outputs": [],
   "source": [
    "test_data = []\n",
    "with open(\"data/allData_tst.txt\") as f:\n",
    "    lines = f.readlines()\n",
    "    for line in lines:\n",
    "        test_data.append(\">h\\n\")\n",
    "        test_data.append(line)"
   ]
  },
  {
   "cell_type": "code",
   "execution_count": null,
   "metadata": {},
   "outputs": [],
   "source": [
    "with open(\"data/Modified_test.txt\") as f:\n",
    "    f.writelines(test)"
   ]
  }
 ],
 "metadata": {
  "kernelspec": {
   "display_name": "Python 3.6.9 64-bit",
   "language": "python",
   "name": "python36964bit938cf8e428a9458e897512ef141efa38"
  },
  "language_info": {
   "codemirror_mode": {
    "name": "ipython",
    "version": 3
   },
   "file_extension": ".py",
   "mimetype": "text/x-python",
   "name": "python",
   "nbconvert_exporter": "python",
   "pygments_lexer": "ipython3",
   "version": "3.6.9"
  }
 },
 "nbformat": 4,
 "nbformat_minor": 2
}
